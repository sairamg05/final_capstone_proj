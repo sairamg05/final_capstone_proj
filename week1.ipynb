{
 "cells": [
  {
   "cell_type": "markdown",
   "metadata": {
    "collapsed": true
   },
   "source": [
    "## Different neighbourhood Venues in Toronto Downtown and  Manhattan"
   ]
  },
  {
   "cell_type": "markdown",
   "metadata": {},
   "source": [
    "### Background"
   ]
  },
  {
   "cell_type": "raw",
   "metadata": {},
   "source": [
    "New York, like Toronto,With every new wave of immigration, a new food scene inevitably follows. Now neighbourhoods such as Coney Island, Corona, Flushing, Jackson Heights and Sunset Park are being revitalised the same way with new foods,New hangout spots from Ethiopia to Malaysia. .Here in this study we are analysing  about  different  venues  in Manhattan (NY) and Toronto Downtown (CA) neighborhoods.The ever growing population in Toronto has led to the expansion of  Toronto Downtown area by 7000 sq km.Therefore a Canadian based real estate company ABC wants to invest on commercial properties to make Toronto more livelier and enjoyable experience.   "
   ]
  },
  {
   "cell_type": "markdown",
   "metadata": {},
   "source": [
    "### Datas"
   ]
  },
  {
   "cell_type": "raw",
   "metadata": {},
   "source": [
    "To solve this problem we need to information on all the venues categories that are in Manhattan and Toronto For eg,\n",
    "1.Coffee Shop\n",
    "2.Restaurants(Italian,Caribean, etc)\n",
    "3.Theatre\n",
    "4.Parks\n",
    "5.Fitness Centres\n",
    "6.Pubs,etc\n",
    "Above mentioned venue dataset are found using the foursquare api link.\n",
    "\n",
    "Now,to find all the venues of neighbourhoods in  Manhattan and  Downtown Toronto below datas are reqd:\n",
    "Lat,Long,Borough,Neighborhood of New York: https://cocl.us/new_york_dataset\n",
    "Borough,Neighborhood of Toronto: https://en.wikipedia.org/wiki/List_of_postal_codes_of_Canada:_M\n",
    "Latitude ,Longitude of Toronto:\"http://cocl.us/Geospatial_data\"\n",
    "\n",
    "The above data can show us how many venues in Toronto downtown is a subset of venues in Manhattan.The venues that are not in Toronto and if they are frequented  by people can form a good recommendation"
   ]
  },
  {
   "cell_type": "code",
   "execution_count": null,
   "metadata": {},
   "outputs": [],
   "source": []
  }
 ],
 "metadata": {
  "kernelspec": {
   "display_name": "Python 3.6",
   "language": "python",
   "name": "python3"
  },
  "language_info": {
   "codemirror_mode": {
    "name": "ipython",
    "version": 3
   },
   "file_extension": ".py",
   "mimetype": "text/x-python",
   "name": "python",
   "nbconvert_exporter": "python",
   "pygments_lexer": "ipython3",
   "version": "3.6.9"
  }
 },
 "nbformat": 4,
 "nbformat_minor": 1
}
